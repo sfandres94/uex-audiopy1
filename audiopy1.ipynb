{
 "cells": [
  {
   "cell_type": "markdown",
   "id": "71cf4a63-c3dc-4630-93ea-aa063505786c",
   "metadata": {},
   "source": [
    "***"
   ]
  },
  {
   "cell_type": "markdown",
   "id": "074c3cc7",
   "metadata": {},
   "source": [
    "---"
   ]
  },
  {
   "cell_type": "markdown",
   "id": "d1b41c60-5347-44c5-9156-18b51c797e2e",
   "metadata": {
    "tags": []
   },
   "source": [
    "# Sesión 3 de SM: Introducción al análisis de audio con Python <img src=\"img/logo_uex.png\" alt=\"missing\" width=22>"
   ]
  },
  {
   "cell_type": "markdown",
   "id": "f45d39c8-ff80-4c68-82c1-607dff42c3df",
   "metadata": {},
   "source": [
    "Práctica desarrollada por Andres J. Sanchez-Fernandez (sfandres@unex.es) y Juan M. Haut (juanmariohaut@unex.es) para la asignatura Sistemas Multimedia de la Universidad de Extremadura."
   ]
  },
  {
   "cell_type": "markdown",
   "id": "cd8a0331",
   "metadata": {},
   "source": [
    "---"
   ]
  },
  {
   "cell_type": "markdown",
   "id": "41aa3c5f-54c4-4e83-bbc5-b6114fd27ae1",
   "metadata": {},
   "source": [
    "***"
   ]
  },
  {
   "cell_type": "markdown",
   "id": "e150fd1a-24ce-4288-9182-687a738723d0",
   "metadata": {},
   "source": [
    "## Organización de la clase"
   ]
  },
  {
   "cell_type": "markdown",
   "id": "d96cefcd",
   "metadata": {},
   "source": [
    "Fecha de la sesión planificada: 27/02/2024."
   ]
  },
  {
   "cell_type": "markdown",
   "id": "f1dc96d8-c5ed-4a61-90f4-e36f051445b5",
   "metadata": {},
   "source": [
    "### Cronología"
   ]
  },
  {
   "cell_type": "markdown",
   "id": "cc2465e9-6a9d-4635-bb9f-c6adaf54b3e6",
   "metadata": {},
   "source": [
    "<table>\n",
    "  <tr>\n",
    "    <th>Turno</th>\n",
    "    <th>Tiempo (')</th>\n",
    "    <th>Tarea</th>\n",
    "  </tr>\n",
    "  <tr>\n",
    "    <td>Alumnos</td>\n",
    "    <td>20</td>\n",
    "    <td>Acceder al <a href=\"https://github.com/sfandres94/uex-audiopy\">GitHub</a> de la práctica y seguir los pasos para replicar mi repositorio<br> en local y echarlo a andar (hay que seguir el apartado <a href=\"https://github.com/sfandres94/uex-audiopy#getting-started\"><i>Getting started</i></a>).</td>\n",
    "  </tr>\n",
    "  <tr>\n",
    "    <td>Profesor</td>\n",
    "    <td>10</td>\n",
    "    <td>Introducir el contenido de este notebook.</td>\n",
    "  </tr>\n",
    "  <tr>\n",
    "    <td>Alumnos</td>\n",
    "    <td>&#8734;</td>\n",
    "    <td>Realizar el ejercicio de clase que se divide en dos partes: crear un entorno de conda desde cero<br> (apartado <a href=\"https://github.com/sfandres94/uex-audiopy#working-on-your-own-from-scratch\"><i>Working on your own from scratch</i></a>) y analizar ondas de audio con Python3.</td>\n",
    "  </tr>\n",
    "</table>"
   ]
  },
  {
   "cell_type": "markdown",
   "id": "9767c8b1-9aca-4614-a96b-ca11c8d5ed87",
   "metadata": {},
   "source": [
    "### Objetivos de aprendizaje"
   ]
  },
  {
   "cell_type": "markdown",
   "id": "e21c33cd-271a-4938-952e-8f9166e0a087",
   "metadata": {},
   "source": [
    "Los objetivos de esta práctica son los siguientes:\n",
    "<ol>\n",
    "    <li>Trabajar con <b>repositorios de GitHub</b> (Git), entornos virtuales de <b>conda</b> (Anaconda), y notebooks con <b>JupyterLab</b> y <b>Python3</b>.\n",
    "    <li>Aprender a utilizar las <b>librerías más importantes de Python3</b> para el manejo de audios.</li>\n",
    "    <li>Saber diferenciar entre sonido <b>estéreo</b> y <b>mono</b>, aprendiendo la conversión entre ambos.</li>\n",
    "    <li>Entender lo que es una <b>onda de sonido</b> y cómo se realiza el <b>proceso de adquisición</b> de la misma.</li>\n",
    "</ol>"
   ]
  },
  {
   "cell_type": "markdown",
   "id": "1aa804d0-43d1-4351-a904-277d7d2c9473",
   "metadata": {
    "tags": []
   },
   "source": [
    "### Bibliografía consultada"
   ]
  },
  {
   "cell_type": "markdown",
   "id": "0d212053-5c8a-4130-a743-6ec26e0f2374",
   "metadata": {},
   "source": [
    "Información consultada para el desarrollo de esta práctica:\n",
    "<ul>\n",
    "    <li><em>RouteNote Blog: Understanding sample rates in digital audio by Connor Edney</em> <a href=\"https://routenote.com/blog/what-is-sample-rate-in-audio/\">[Link]</a></li>\n",
    "    <li><em>MiniTool: What Is Audio Sample Rate & How to Change Sample Rate of Audio by Cora</em> <a href=\"https://videoconvert.minitool.com/video-converter/audio-sample-rate.html\">[Link]</a></li>\n",
    "    <li>Repositorios de Github:\n",
    "        <ul>\n",
    "            <li>Cómo graficar espectrogramas de Audios en Python <a href=\"https://www.kaggle.com/code/joeportilla/c-mo-graficar-espectrogramas-de-audios-en-python/notebook\">[Link]</a></li>\n",
    "            <li><em>Simple audio compression with Python</em> <a href=\"https://github.com/jmpion/simple-audio-compression-with-python/blob/master/simple-audio-compression.ipynb\">[Link]</a></li>\n",
    "        </ul>\n",
    "    </li>\n",
    "</ul>"
   ]
  },
  {
   "cell_type": "markdown",
   "id": "1bf4a962-ad3c-49fe-8d6f-7bba0fd78487",
   "metadata": {},
   "source": [
    "***"
   ]
  },
  {
   "cell_type": "markdown",
   "id": "4db14467-5e44-4af1-8196-cd49ec2c3cf1",
   "metadata": {},
   "source": [
    "***"
   ]
  },
  {
   "cell_type": "markdown",
   "id": "068efd8d-5f56-4091-8a67-aa55eab0e855",
   "metadata": {},
   "source": [
    "## Introducción"
   ]
  },
  {
   "cell_type": "markdown",
   "id": "2124c5c6-f0c9-4e3c-b6d7-029012f0f186",
   "metadata": {},
   "source": [
    "### ¿Qué es un entorno de Anaconda?"
   ]
  },
  {
   "cell_type": "markdown",
   "id": "e66debae-eb6f-4aa4-b84e-0519d3404bd0",
   "metadata": {},
   "source": [
    "<center><img src=\"img/logo_anaconda.png\" alt=\"missing\" width=150></center><br>\n",
    "\n",
    "Un entorno Conda para Python es un <b>directorio autocontenido que contiene todos los archivos y paquetes necesarios para un proyecto o aplicación Python</b> específica. Te permite instalar y gestionar diferentes versiones de Python y sus dependencias, sin afectar a la instalación global de Python o a otros proyectos en tu sistema.\n",
    "\n",
    "Conda es un sistema de gestión de paquetes y entornos para cualquier lenguaje de programación. Te permite crear, gestionar y cambiar entre múltiples entornos y compartirlos con otros, lo que facilita la colaboración en proyectos."
   ]
  },
  {
   "cell_type": "markdown",
   "id": "b168597a-e2c7-48e3-8ceb-767b8b1299da",
   "metadata": {},
   "source": [
    "### JupyterLab vs Jupyter notebooks"
   ]
  },
  {
   "cell_type": "markdown",
   "id": "6d89cbb5-6b5e-4a68-b92d-7f3a1c8a3bb5",
   "metadata": {},
   "source": [
    "<center><img src=\"img/logo_jupyter.png\" alt=\"missing\" width=250></center><br>\n",
    "\n",
    "JupyterLab y Jupyter Notebook son entornos informáticos interactivos basados en la web que permiten crear y compartir documentos que contienen código, ecuaciones, visualizaciones y texto narrativo.\n",
    "\n",
    "<ul>\n",
    "    <li><b>Jupyter Notebook</b> es el más antiguo de los dos y existe desde 2011. Tiene una interfaz más sencilla y proporciona un documento único donde se puede editar y ejecutar código en celdas, y ver la salida de esas celdas en la misma interfaz. También puedes crear celdas de tipo <i>Markdown</i> para documentar y añadir imágenes, vídeos y otros medios a tu cuaderno. Jupyter Notebook es compatible con más de 40 lenguajes de programación, incluidos Python, R, Julia y Scala.</li>\n",
    "    <li><b>JupyterLab</b>, por su parte, se lanzó en 2018 y proporciona una interfaz más potente y versátil para la computación interactiva. Tiene una interfaz con varias pestañas que permite trabajar con varios cuadernos y otros archivos al mismo tiempo. JupyterLab tiene un editor de texto integrado, un terminal y un navegador de archivos, y admite arrastrar y soltar archivos entre pestañas. También dispone de funciones más avanzadas, como completado de código, depuración e integración con sistemas de control de versiones como Git. JupyterLab soporta los mismos lenguajes de programación que Jupyter Notebook.</li>\n",
    "</ul>\n",
    "\n",
    "\n",
    "\n",
    "<b>En resumen, Jupyter Notebook es una herramienta más sencilla y centrada en la computación interactiva, mientras que JupyterLab proporciona una interfaz más versátil y potente para trabajar con múltiples cuadernos y archivos.</b>\n",
    "\n",
    "\n",
    "<b>Google Colab</b> es un entorno de cuaderno Jupyter. Está construido sobre la infraestructura de Jupyter Notebook y soporta muchas de las mismas características. Además, ofrece varias características únicas, como la posibilidad de utilizar Google Drive para almacenar y acceder a tus cuadernos, así como ejecutar código en la infraestructura en la nube de Google, incluidas las GPUs y TPUs."
   ]
  },
  {
   "cell_type": "markdown",
   "id": "9afafe98-7bd7-43ed-aaef-c4a4e95326da",
   "metadata": {},
   "source": [
    "### Breve introducción a Python3"
   ]
  },
  {
   "cell_type": "markdown",
   "id": "c636862e-1d9a-42b5-bc19-cf37ce647f8a",
   "metadata": {},
   "source": [
    "<center><img src=\"img/logo_python.png\" alt=\"missing\" width=220></center>\n",
    "\n",
    "Las principales ventajas de Python son:\n",
    "\n",
    "<ul>\n",
    "<li><b>Fácil de aprender y usar</b>: Python tiene una sintaxis simple y fácil de aprender que lo convierte en un gran lenguaje para principiantes. El código es legible y directo, lo que ayuda a reducir la curva de aprendizaje y facilita la escritura y el mantenimiento del código.</li>\n",
    "\n",
    "<li><b>Lenguaje interpretado</b>: Python es un lenguaje interpretado, lo que significa que el código se ejecuta línea por línea, haciendo más fácil depurar y probar el código. No es necesario compilar el código antes de ejecutarlo, lo que agiliza el desarrollo y despliegue de aplicaciones.</li>\n",
    "\n",
    "<li><b>Gran biblioteca estándar</b>: Python viene con una gran biblioteca estándar que proporciona muchos módulos útiles para tareas comunes de programación como el manejo de archivos, redes y acceso a bases de datos. Esto facilita la escritura de programas sin necesidad de instalar bibliotecas de terceros.</li>\n",
    "\n",
    "<li><b>Bibliotecas de terceros</b>: Python tiene un vasto ecosistema de bibliotecas de terceros que se pueden instalar fácilmente utilizando el gestor de paquetes pip. Estas bibliotecas proporcionan funcionalidad adicional para tareas como la computación científica, el desarrollo web y el aprendizaje automático.</li>\n",
    "\n",
    "<li><b>Multiplataforma</b>: Python es un lenguaje multiplataforma, lo que significa que el código escrito en un sistema operativo puede ejecutarse en otro sin necesidad de realizar cambios en el código. Esto hace que sea más fácil escribir código que funcione en múltiples plataformas.</li>\n",
    "\n",
    "<li><b>Orientado a objetos</b>: Python soporta programación orientada a objetos (POO), lo que permite crear código reutilizable que puede organizarse en clases y objetos. Esto facilita la gestión de código complejo y mejora su mantenimiento.</li>\n",
    "</ul>\n",
    "    \n",
    "En definitiva, Python3 y Python en general son lenguajes populares por su sencillez, facilidad de uso y amplia gama de aplicaciones. Con su gran biblioteca estándar y bibliotecas de terceros, Python se puede utilizar para una amplia variedad de tareas y es una gran opción tanto para principiantes como para desarrolladores experimentados."
   ]
  },
  {
   "cell_type": "markdown",
   "id": "f12ba7ff-72ad-41f3-9aa4-9009efc52746",
   "metadata": {},
   "source": [
    "Esto es una celda y es donde se ejecuta código:"
   ]
  },
  {
   "cell_type": "code",
   "execution_count": null,
   "id": "f4cf7ef1-16ca-4406-93b3-2d522c8a6d37",
   "metadata": {},
   "outputs": [],
   "source": []
  },
  {
   "cell_type": "markdown",
   "id": "bbd13812-857c-4621-b6cb-756a34183415",
   "metadata": {},
   "source": [
    "En Python no se le indica el tipo de variable que es:"
   ]
  },
  {
   "cell_type": "code",
   "execution_count": null,
   "id": "1ee3fc79-a52c-4064-8bc3-8c017b0a329f",
   "metadata": {},
   "outputs": [],
   "source": [
    "# int num = 5  # Mal.\n",
    "num = 5\n",
    "print(num, type(num))\n",
    "\n",
    "num = 5.\n",
    "print(num, type(num))\n",
    "\n",
    "cad = 'Hola mundo!'\n",
    "print(cad, type(cad))"
   ]
  },
  {
   "cell_type": "markdown",
   "id": "17451ba4-a278-4583-a70d-5a38a9e99ab7",
   "metadata": {},
   "source": [
    "En este notebook se utilizan mucho los f-Strings (format string) de Python3:"
   ]
  },
  {
   "cell_type": "code",
   "execution_count": null,
   "id": "7fe4940f-f644-4325-8da2-541aa19362b8",
   "metadata": {},
   "outputs": [],
   "source": [
    "num = 11\n",
    "print('Este es mi número favorito:', num)            # Cast automático.\n",
    "print('Este es mi número favorito: ' + str(num))     # Nosotros hacemos cast.\n",
    "print('Este es mi número favorito: {}'.format(num))  # Forma más interesante.\n",
    "print(f'Este es mi número favorito: {num}')  # Aún más interesante y versátil."
   ]
  },
  {
   "cell_type": "markdown",
   "id": "0df27f08-96fd-4039-891f-d881835b5c19",
   "metadata": {},
   "source": [
    "***"
   ]
  },
  {
   "cell_type": "markdown",
   "id": "6070a363-e94a-4ab6-af7d-dd7f4b34faae",
   "metadata": {},
   "source": [
    "***"
   ]
  },
  {
   "cell_type": "markdown",
   "id": "b69ce913-726f-462f-b0a8-28ebd00ebb32",
   "metadata": {
    "tags": []
   },
   "source": [
    "## Primeros pasos con audio: sonido mono vs estéreo"
   ]
  },
  {
   "cell_type": "markdown",
   "id": "7ce9ea99-342b-41d1-a20e-dd1a38df5c53",
   "metadata": {},
   "source": [
    "<center><img src=\"img/mono_vs_stereo_diagram.jpg\" alt=\"missing\" width=500></center>"
   ]
  },
  {
   "cell_type": "markdown",
   "id": "1a0854a2-eee0-454b-aa3f-49537c756216",
   "metadata": {},
   "source": [
    "### Importar librerías y módulos de Python"
   ]
  },
  {
   "cell_type": "markdown",
   "id": "c62d0544-2df1-48d4-af1b-90f52f848870",
   "metadata": {},
   "source": [
    "<b>Nota</b>: Estas no son las únicas librerías de Python con las que se pueden trabajar para el procesamiento de archivos de audio (otro ejemplo podría ser <a href=\"https://librosa.org/doc/latest/index.html\">Librosa</a>). Si alguien está familiarizado con otras librerías puede utilizarlas.\n",
    "\n",
    "Importamos las librerías/módulos específicos de la siguiente forma."
   ]
  },
  {
   "cell_type": "code",
   "execution_count": null,
   "id": "bfb99414-5ac1-4359-9e85-bac6a33d9ac8",
   "metadata": {},
   "outputs": [],
   "source": [
    "# Importacion.\n",
    "# import librosa\n",
    "from scipy.io import wavfile\n",
    "import IPython\n",
    "import os\n",
    "import numpy as np"
   ]
  },
  {
   "cell_type": "markdown",
   "id": "362e5601-4bd0-4600-adf3-ea7aa9bd4df7",
   "metadata": {},
   "source": [
    "### Especificar directorios de entrada y salida"
   ]
  },
  {
   "cell_type": "markdown",
   "id": "7d6d5954-df9f-4459-8be6-348034f66a24",
   "metadata": {},
   "source": [
    "Aquí definimos los directorios donde guardaremos los audios con los que vamos a trabajar, así como dónde se van a guardar aquellos que generamos a lo largo de la práctica."
   ]
  },
  {
   "cell_type": "code",
   "execution_count": null,
   "id": "a2b7e67a-e4c2-4ff4-b06d-7ccee980abcf",
   "metadata": {},
   "outputs": [],
   "source": [
    "# Directorios que usaremos.\n",
    "cwd = os.getcwd()\n",
    "audio_input_path = os.path.join(cwd, os.path.join('audio', '_input'))  # cambiar '_input' por 'examples'\n",
    "audio_output_path = os.path.join(cwd, os.path.join('audio', '_output'))\n",
    "print(f'Directorio con los audios de entrada: {audio_input_path}')\n",
    "print(f'Directorio donde guardaremos los audios generados: {audio_output_path}\\n')"
   ]
  },
  {
   "cell_type": "markdown",
   "id": "bfc5eb3d-e688-421c-8471-e1b3e21422c8",
   "metadata": {},
   "source": [
    "### Cargar el archivo de audio"
   ]
  },
  {
   "cell_type": "markdown",
   "id": "b742688e-a8d1-4dc9-ba01-20ca1a68fee3",
   "metadata": {},
   "source": [
    "Diferencias entre formatos de archivo para almacenar audio digital.\n",
    "\n",
    "<ul>\n",
    "    <li><b>.wav</b>: Archivo de audio sin comprimir (máxima calidad y gran tamaño de archivo). Típicamente utilizado en edición de audio debido a su fidelidad.</li>\n",
    "    <li><b>.mp3</b> (por ejemplo): Archivo de audio comprimido (con pérdidas pero menor tamaño). Ampliamente usado.</li>\n",
    "</ul>"
   ]
  },
  {
   "cell_type": "markdown",
   "id": "15ab6aa4-b115-4810-bf74-b2c3b7e17492",
   "metadata": {},
   "source": [
    "Cargamos el archivo de audio .wav en este caso."
   ]
  },
  {
   "cell_type": "code",
   "execution_count": null,
   "id": "3e1d48db-b430-41cd-b051-7af0c158fe5b",
   "metadata": {},
   "outputs": [],
   "source": [
    "# Cargamos el archivo de audio.\n",
    "filename = os.path.join(audio_input_path, 'sample1_stereo.wav')\n",
    "# audio_data, sample_rate = librosa.load(filename, sr=None, mono=False)\n",
    "sample_rate, audio_data = wavfile.read(filename)\n",
    "print(f'Frecuencia de muestreo (sample rate): {sample_rate/1000} kHz')"
   ]
  },
  {
   "cell_type": "markdown",
   "id": "ea236d4b-58df-4166-a216-b89d57837811",
   "metadata": {},
   "source": [
    "Vamos a escucharlo. Para que esto se haga correctamente, hay que indicarle la frecuencia de muestreo (veremos más adelante qué es)."
   ]
  },
  {
   "cell_type": "code",
   "execution_count": null,
   "id": "20d992b3-1603-464b-aab9-dab4eab91bfe",
   "metadata": {},
   "outputs": [],
   "source": [
    "IPython.display.Audio(audio_data.T, rate=sample_rate) # .T se pasa únicamente si es audio estéreo."
   ]
  },
  {
   "cell_type": "markdown",
   "id": "f174b8d3-07da-4dd2-9a54-adcf2d30c1fc",
   "metadata": {},
   "source": [
    "### Mostrar principales características de la onda"
   ]
  },
  {
   "cell_type": "markdown",
   "id": "386a0ee8-c143-467d-8e42-0d043e830e79",
   "metadata": {},
   "source": [
    "Vamos a mostrar la información. Nota: es audio estereo (dos canales)."
   ]
  },
  {
   "cell_type": "code",
   "execution_count": null,
   "id": "4c6ddf9c-9224-49a1-9884-2eca1644f377",
   "metadata": {},
   "outputs": [],
   "source": [
    "# Mostrar informacion (sonido estéreo).\n",
    "print('Datos de audio (estereo):')\n",
    "print(f'- Tamaño:     {audio_data.shape}')\n",
    "print(f'- 1º canal:   {audio_data[:5, 0]}...')\n",
    "print(f'- 2º canal:   {audio_data[:5, 1]}...')\n",
    "print(f'- Resolucion: {type(audio_data[0,0])}\\n')"
   ]
  },
  {
   "cell_type": "markdown",
   "id": "22329eff-3797-4dcf-8c69-b4698089eff4",
   "metadata": {},
   "source": [
    "Ahora, por simplificación, vamos a calcular la media por canal para obtener un sonido mono."
   ]
  },
  {
   "cell_type": "code",
   "execution_count": null,
   "id": "2436e3d0-2e7a-48e7-90d9-cd78a117d236",
   "metadata": {},
   "outputs": [],
   "source": [
    "# Convertimos a mono mediante la media por canal (simplificacion).\n",
    "new_data_mono = audio_data.mean(axis=1)  # Column-wise.\n",
    "print('Nuevos datos de audio (mono):')\n",
    "print(f'- Nuevo tamaño: {new_data_mono.shape}')\n",
    "print(f'- Canal unico:  {new_data_mono[:5]}...')\n",
    "\n",
    "# Mantenemos la misma resolucion que antes.\n",
    "new_data_mono = new_data_mono.astype(np.int16)\n",
    "print(f'- Resolucion:   {type(new_data_mono[0])}\\n')"
   ]
  },
  {
   "cell_type": "markdown",
   "id": "2da0076d-bcb4-47d8-a15d-a3323726fc60",
   "metadata": {},
   "source": [
    "Vamos a guardarlo."
   ]
  },
  {
   "cell_type": "code",
   "execution_count": null,
   "id": "9e886f38-dfca-4b4a-9ac0-45a201f178c3",
   "metadata": {},
   "outputs": [],
   "source": [
    "# Guardamos el archivo mono a un fichero de tipo wav.\n",
    "wavfile.write(\n",
    "    filename=os.path.join(audio_output_path, 'sample1_mono.wav'),\n",
    "    rate=sample_rate,\n",
    "    data=new_data_mono\n",
    ")"
   ]
  },
  {
   "cell_type": "markdown",
   "id": "b26593d8-998f-452b-836d-11ed8425bcf9",
   "metadata": {},
   "source": [
    "Vamos a escucharlo de nuevo."
   ]
  },
  {
   "cell_type": "code",
   "execution_count": null,
   "id": "49fccd6d-ed00-4598-a249-b3a29210cb36",
   "metadata": {},
   "outputs": [],
   "source": [
    "IPython.display.Audio(new_data_mono, rate=sample_rate)"
   ]
  },
  {
   "cell_type": "markdown",
   "id": "860daa53-6e80-4b79-9f23-e9dbfb6cb123",
   "metadata": {},
   "source": [
    " Se nota que ahora es sonido mono (sobre todo si utilizais cascos).\n",
    "\n",
    "<ul>\n",
    "    <li><b>Mono</b>: se escucha lo mismo por el auricular derecho que por el izquierdo.</li>\n",
    "    <li><b>Estéreo</b>: no se escucha el mismo sonido por ambos canales, sino que se notan variaciones entre los dos.</li>\n",
    "</ul>"
   ]
  },
  {
   "cell_type": "markdown",
   "id": "7ecee678-b877-4370-847f-1d08e56ecf12",
   "metadata": {},
   "source": [
    "Vamos a ver las diferencias en tamaño de cada archivo."
   ]
  },
  {
   "cell_type": "code",
   "execution_count": null,
   "id": "d642e5d2-6237-46bf-a8c6-63268c6da8d8",
   "metadata": {},
   "outputs": [],
   "source": [
    "!ls -sh audio/_input/sample1_stereo.wav\n",
    "!ls -sh audio/_output/sample1_mono.wav"
   ]
  },
  {
   "cell_type": "markdown",
   "id": "dd488773-2466-4ba0-ae06-ffdd5c35daf2",
   "metadata": {},
   "source": [
    "Como podemos ver el tamaño se ha reducido a la mitad (manteniendo el la frecuencia de muestreo). Mostramos por pantalla la frecuencia de muestreo (*sample rate*) del archivo de audio: "
   ]
  },
  {
   "cell_type": "code",
   "execution_count": null,
   "id": "8b6f73f4-1790-49eb-8be9-07704a7bfa4e",
   "metadata": {},
   "outputs": [],
   "source": [
    "print(f'Frecuencia de muestreo (sample rate): {sample_rate/1000} kHz\\n')"
   ]
  },
  {
   "cell_type": "markdown",
   "id": "4416c9b4-9e29-4d5a-9d8c-49dac76f9ada",
   "metadata": {},
   "source": [
    "Muy bien la diferencia entre sonido estéreo y mono pero:\n",
    "\n",
    "*¿cómo se adquiere esta onda de audio?*, *¿qué significa esta frecuencia de muestreo?*, *¿para que sirve la transformada de Fourier?*, *¿para qué queremos comprimir una onda?*, *etc*.\n",
    "\n",
    "Todo esto y más lo veremos a la próxima sesión."
   ]
  }
 ],
 "metadata": {
  "kernelspec": {
   "display_name": "audiopy",
   "language": "python",
   "name": "audiopy"
  },
  "language_info": {
   "codemirror_mode": {
    "name": "ipython",
    "version": 3
   },
   "file_extension": ".py",
   "mimetype": "text/x-python",
   "name": "python",
   "nbconvert_exporter": "python",
   "pygments_lexer": "ipython3",
   "version": "3.10.9"
  },
  "toc-autonumbering": true
 },
 "nbformat": 4,
 "nbformat_minor": 5
}
